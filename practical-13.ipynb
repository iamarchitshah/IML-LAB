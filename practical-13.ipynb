{
 "cells": [
  {
   "cell_type": "markdown",
   "id": "4dbf7dfb",
   "metadata": {
    "_cell_guid": "b1076dfc-b9ad-4769-8c92-a6c4dae69d19",
    "_uuid": "8f2839f25d086af736a60e9eeb907d3b93b6e0e5",
    "papermill": {
     "duration": 0.002046,
     "end_time": "2023-11-06T04:46:10.519844",
     "exception": false,
     "start_time": "2023-11-06T04:46:10.517798",
     "status": "completed"
    },
    "tags": []
   },
   "source": [
    "### Practical No.13: Write a Python program to implement K-Nearest Neighbour supervised machine learning algorithm for given dataset."
   ]
  },
  {
   "cell_type": "code",
   "execution_count": 1,
   "id": "32a3a3aa",
   "metadata": {
    "execution": {
     "iopub.execute_input": "2023-11-06T04:46:10.525748Z",
     "iopub.status.busy": "2023-11-06T04:46:10.524726Z",
     "iopub.status.idle": "2023-11-06T04:46:12.043177Z",
     "shell.execute_reply": "2023-11-06T04:46:12.042106Z"
    },
    "papermill": {
     "duration": 1.524674,
     "end_time": "2023-11-06T04:46:12.046383",
     "exception": false,
     "start_time": "2023-11-06T04:46:10.521709",
     "status": "completed"
    },
    "tags": []
   },
   "outputs": [
    {
     "name": "stdout",
     "output_type": "stream",
     "text": [
      "Accuracy of K-NN with k=3: 80.56%\n"
     ]
    }
   ],
   "source": [
    "# Name : - Archit B Shah\n",
    "# Enrollement : - 216270307007\n",
    "\n",
    "from sklearn.model_selection import train_test_split\n",
    "from sklearn.neighbors import KNeighborsClassifier\n",
    "from sklearn import datasets\n",
    "from sklearn.metrics import accuracy_score\n",
    "data = datasets.load_wine()\n",
    "X = data.data  \n",
    "y = data.target \n",
    "X_train, X_test, y_train, y_test = train_test_split(X, y, test_size=0.2, random_state=42)\n",
    "k=3\n",
    "knn = KNeighborsClassifier(n_neighbors=k)\n",
    "knn.fit(X_train, y_train)\n",
    "y_pred = knn.predict(X_test)\n",
    "accuracy = accuracy_score(y_test, y_pred)\n",
    "print(f\"Accuracy of K-NN with k={k}: {accuracy*100:.2f}%\")"
   ]
  },
  {
   "cell_type": "code",
   "execution_count": null,
   "id": "12032564",
   "metadata": {
    "papermill": {
     "duration": 0.001388,
     "end_time": "2023-11-06T04:46:12.049511",
     "exception": false,
     "start_time": "2023-11-06T04:46:12.048123",
     "status": "completed"
    },
    "tags": []
   },
   "outputs": [],
   "source": []
  }
 ],
 "metadata": {
  "kernelspec": {
   "display_name": "Python 3",
   "language": "python",
   "name": "python3"
  },
  "language_info": {
   "codemirror_mode": {
    "name": "ipython",
    "version": 3
   },
   "file_extension": ".py",
   "mimetype": "text/x-python",
   "name": "python",
   "nbconvert_exporter": "python",
   "pygments_lexer": "ipython3",
   "version": "3.10.12"
  },
  "papermill": {
   "default_parameters": {},
   "duration": 4.881007,
   "end_time": "2023-11-06T04:46:12.470126",
   "environment_variables": {},
   "exception": null,
   "input_path": "__notebook__.ipynb",
   "output_path": "__notebook__.ipynb",
   "parameters": {},
   "start_time": "2023-11-06T04:46:07.589119",
   "version": "2.4.0"
  }
 },
 "nbformat": 4,
 "nbformat_minor": 5
}
