{
 "cells": [
  {
   "cell_type": "markdown",
   "id": "3a05a7fb",
   "metadata": {
    "_cell_guid": "b1076dfc-b9ad-4769-8c92-a6c4dae69d19",
    "_uuid": "8f2839f25d086af736a60e9eeb907d3b93b6e0e5",
    "papermill": {
     "duration": 0.008454,
     "end_time": "2023-09-10T09:43:28.678505",
     "exception": false,
     "start_time": "2023-09-10T09:43:28.670051",
     "status": "completed"
    },
    "tags": []
   },
   "source": [
    "# Practical 2 : Write a NumPy program to implement following operation"
   ]
  },
  {
   "cell_type": "markdown",
   "id": "1df33a0d",
   "metadata": {
    "papermill": {
     "duration": 0.006663,
     "end_time": "2023-09-10T09:43:28.693113",
     "exception": false,
     "start_time": "2023-09-10T09:43:28.686450",
     "status": "completed"
    },
    "tags": []
   },
   "source": [
    "### • to convert a list of numeric values into a one-dimensional NumPy array"
   ]
  },
  {
   "cell_type": "code",
   "execution_count": 1,
   "id": "35795e40",
   "metadata": {
    "execution": {
     "iopub.execute_input": "2023-09-10T09:43:28.707212Z",
     "iopub.status.busy": "2023-09-10T09:43:28.706378Z",
     "iopub.status.idle": "2023-09-10T09:43:28.721727Z",
     "shell.execute_reply": "2023-09-10T09:43:28.720787Z"
    },
    "papermill": {
     "duration": 0.02592,
     "end_time": "2023-09-10T09:43:28.725060",
     "exception": false,
     "start_time": "2023-09-10T09:43:28.699140",
     "status": "completed"
    },
    "tags": []
   },
   "outputs": [
    {
     "name": "stdout",
     "output_type": "stream",
     "text": [
      "List:  [1, 3, 0, 6, 2, 5, 6]\n",
      "Array:  [1 3 0 6 2 5 6]\n"
     ]
    }
   ],
   "source": [
    "# Name : Archit B Shah \n",
    "#Enrollment : 216270307007\n",
    "\n",
    "import numpy\n",
    "\n",
    "l = [1, 3, 0, 6, 2, 5, 6]\n",
    "\n",
    "a = numpy.array(l)\n",
    "\n",
    "print (\"List: \", l)\n",
    "\n",
    "print (\"Array: \", a)"
   ]
  },
  {
   "cell_type": "markdown",
   "id": "99bd3dcd",
   "metadata": {
    "papermill": {
     "duration": 0.005488,
     "end_time": "2023-09-10T09:43:28.736719",
     "exception": false,
     "start_time": "2023-09-10T09:43:28.731231",
     "status": "completed"
    },
    "tags": []
   },
   "source": [
    "### • to create a 3x3 matrix with values ranging from 2 to 10"
   ]
  },
  {
   "cell_type": "code",
   "execution_count": 2,
   "id": "d9dd638e",
   "metadata": {
    "execution": {
     "iopub.execute_input": "2023-09-10T09:43:28.750343Z",
     "iopub.status.busy": "2023-09-10T09:43:28.749649Z",
     "iopub.status.idle": "2023-09-10T09:43:28.756623Z",
     "shell.execute_reply": "2023-09-10T09:43:28.755287Z"
    },
    "papermill": {
     "duration": 0.016543,
     "end_time": "2023-09-10T09:43:28.759044",
     "exception": false,
     "start_time": "2023-09-10T09:43:28.742501",
     "status": "completed"
    },
    "tags": []
   },
   "outputs": [
    {
     "name": "stdout",
     "output_type": "stream",
     "text": [
      "[[ 2  3  4]\n",
      " [ 5  6  7]\n",
      " [ 8  9 10]]\n"
     ]
    }
   ],
   "source": [
    "# Name : Archit B Shah\n",
    "# Enrollment : 216270307007\n",
    "\n",
    "import numpy as np\n",
    "\n",
    "a = np.array([2, 3, 4, 5, 6, 7, 8, 9, 10])\n",
    "\n",
    "n = a.reshape(3, 3)\n",
    "\n",
    "print(n)"
   ]
  },
  {
   "cell_type": "markdown",
   "id": "7c248be3",
   "metadata": {
    "papermill": {
     "duration": 0.005729,
     "end_time": "2023-09-10T09:43:28.770694",
     "exception": false,
     "start_time": "2023-09-10T09:43:28.764965",
     "status": "completed"
    },
    "tags": []
   },
   "source": [
    "### • to append values at the end of an array"
   ]
  },
  {
   "cell_type": "code",
   "execution_count": 3,
   "id": "35c3f796",
   "metadata": {
    "execution": {
     "iopub.execute_input": "2023-09-10T09:43:28.784956Z",
     "iopub.status.busy": "2023-09-10T09:43:28.783692Z",
     "iopub.status.idle": "2023-09-10T09:43:28.791678Z",
     "shell.execute_reply": "2023-09-10T09:43:28.790292Z"
    },
    "papermill": {
     "duration": 0.017634,
     "end_time": "2023-09-10T09:43:28.794223",
     "exception": false,
     "start_time": "2023-09-10T09:43:28.776589",
     "status": "completed"
    },
    "tags": []
   },
   "outputs": [
    {
     "name": "stdout",
     "output_type": "stream",
     "text": [
      "Original array:\n",
      "[10, 20, 30]\n",
      "After append values to the end of the array:\n",
      "[10 20 30 40]\n"
     ]
    }
   ],
   "source": [
    "# Name : Archit B Shah\n",
    "# Enrollment : 216270307007\n",
    "\n",
    "\n",
    "import numpy as np\n",
    "\n",
    "x = [10, 20, 30]\n",
    "\n",
    "print(\"Original array:\")\n",
    "print(x)\n",
    "\n",
    "x = np.append(x, [40])\n",
    "print(\"After append values to the end of the array:\")\n",
    "\n",
    "print(x)"
   ]
  },
  {
   "cell_type": "markdown",
   "id": "446218e8",
   "metadata": {
    "papermill": {
     "duration": 0.005548,
     "end_time": "2023-09-10T09:43:28.805718",
     "exception": false,
     "start_time": "2023-09-10T09:43:28.800170",
     "status": "completed"
    },
    "tags": []
   },
   "source": [
    "### • to create another shape from an array without changing its data (3 * 2 to 2 * 3) "
   ]
  },
  {
   "cell_type": "code",
   "execution_count": 4,
   "id": "879f8f1c",
   "metadata": {
    "execution": {
     "iopub.execute_input": "2023-09-10T09:43:28.819457Z",
     "iopub.status.busy": "2023-09-10T09:43:28.819011Z",
     "iopub.status.idle": "2023-09-10T09:43:28.827817Z",
     "shell.execute_reply": "2023-09-10T09:43:28.826481Z"
    },
    "papermill": {
     "duration": 0.018657,
     "end_time": "2023-09-10T09:43:28.830351",
     "exception": false,
     "start_time": "2023-09-10T09:43:28.811694",
     "status": "completed"
    },
    "tags": []
   },
   "outputs": [
    {
     "name": "stdout",
     "output_type": "stream",
     "text": [
      "Reshape 3x2:\n",
      "[[1 2]\n",
      " [3 4]\n",
      " [5 6]]\n",
      "Reshape 2x3:\n",
      "[[1 2 3]\n",
      " [4 5 6]]\n"
     ]
    }
   ],
   "source": [
    "# Name : Archit B Shah\n",
    "# Enrollment : 216270307007\n",
    "\n",
    "import numpy as np\n",
    "\n",
    "x = np.array([1, 2, 3, 4, 5, 6])\n",
    "\n",
    "y = np.reshape(x,(3,2))\n",
    "\n",
    "print(\"Reshape 3x2:\")\n",
    "print(y)\n",
    "\n",
    "z = np.reshape(x,(2,3))\n",
    "print(\"Reshape 2x3:\")\n",
    "\n",
    "print(z)"
   ]
  },
  {
   "cell_type": "code",
   "execution_count": null,
   "id": "c8c9fc52",
   "metadata": {
    "papermill": {
     "duration": 0.006026,
     "end_time": "2023-09-10T09:43:28.842616",
     "exception": false,
     "start_time": "2023-09-10T09:43:28.836590",
     "status": "completed"
    },
    "tags": []
   },
   "outputs": [],
   "source": [
    "    "
   ]
  }
 ],
 "kernelspec": {
  "display_name": "Python 3",
  "language": "python",
  "name": "python3"
 },
 "language_info": {
  "codemirror_mode": {
   "name": "ipython",
   "version": 3
  },
  "file_extension": ".py",
  "mimetype": "text/x-python",
  "name": "python",
  "nbconvert_exporter": "python",
  "pygments_lexer": "ipython3",
  "version": "3.6.4"
 },
 "metadata": {
  "kernelspec": {
   "display_name": "Python 3",
   "language": "python",
   "name": "python3"
  },
  "language_info": {
   "codemirror_mode": {
    "name": "ipython",
    "version": 3
   },
   "file_extension": ".py",
   "mimetype": "text/x-python",
   "name": "python",
   "nbconvert_exporter": "python",
   "pygments_lexer": "ipython3",
   "version": "3.10.12"
  },
  "papermill": {
   "default_parameters": {},
   "duration": 4.337403,
   "end_time": "2023-09-10T09:43:29.269660",
   "environment_variables": {},
   "exception": null,
   "input_path": "__notebook__.ipynb",
   "output_path": "__notebook__.ipynb",
   "parameters": {},
   "start_time": "2023-09-10T09:43:24.932257",
   "version": "2.4.0"
  }
 },
 "nbformat": 4,
 "nbformat_minor": 5
}
