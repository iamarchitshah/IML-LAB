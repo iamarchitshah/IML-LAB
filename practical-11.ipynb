{
 "cells": [
  {
   "cell_type": "markdown",
   "id": "58d9c1ae",
   "metadata": {
    "_cell_guid": "b1076dfc-b9ad-4769-8c92-a6c4dae69d19",
    "_uuid": "8f2839f25d086af736a60e9eeb907d3b93b6e0e5",
    "papermill": {
     "duration": 0.002483,
     "end_time": "2023-10-20T06:57:29.916188",
     "exception": false,
     "start_time": "2023-10-20T06:57:29.913705",
     "status": "completed"
    },
    "tags": []
   },
   "source": [
    "### Write a Pandas program to filter all columns where all entries present, check which rows and columns has a NaN and finally drop rows with any NaNs from the given dataset."
   ]
  },
  {
   "cell_type": "code",
   "execution_count": 1,
   "id": "e7c49862",
   "metadata": {
    "execution": {
     "iopub.execute_input": "2023-10-20T06:57:29.922454Z",
     "iopub.status.busy": "2023-10-20T06:57:29.921744Z",
     "iopub.status.idle": "2023-10-20T06:57:30.397063Z",
     "shell.execute_reply": "2023-10-20T06:57:30.395867Z"
    },
    "papermill": {
     "duration": 0.483555,
     "end_time": "2023-10-20T06:57:30.401747",
     "exception": false,
     "start_time": "2023-10-20T06:57:29.918192",
     "status": "completed"
    },
    "tags": []
   },
   "outputs": [
    {
     "name": "stdout",
     "output_type": "stream",
     "text": [
      "Indus India Bank sample data:\n",
      "         Date      Symbol Series  Prev Close   Open   High    Low   Last  \\\n",
      "0  2000-01-03  INDUSINDBK     EQ       26.80  28.90  28.95  28.00  28.95   \n",
      "1  2000-01-04  INDUSINDBK     EQ       28.95  30.85  31.25  27.90  30.60   \n",
      "2  2000-01-05  INDUSINDBK     EQ       30.25  29.90  30.00  27.85  28.45   \n",
      "3  2000-01-06  INDUSINDBK     EQ       28.15  29.25  29.35  27.95  27.95   \n",
      "4  2000-01-07  INDUSINDBK     EQ       28.00  27.20  28.00  26.50  27.20   \n",
      "\n",
      "   Close   VWAP  Volume      Turnover  Trades  Deliverable Volume  %Deliverble  \n",
      "0  28.95  28.69  107224  3.075827e+11     NaN                 NaN          NaN  \n",
      "1  30.25  29.12  182693  5.320731e+11     NaN                 NaN          NaN  \n",
      "2  28.15  28.72  162820  4.675717e+11     NaN                 NaN          NaN  \n",
      "3  28.00  28.55   87901  2.510007e+11     NaN                 NaN          NaN  \n",
      "4  27.05  27.09   65684  1.779190e+11     NaN                 NaN          NaN  \n",
      "\n",
      "Find  all columns which all entries present:\n",
      "            Date      Symbol Series  Prev Close    Open    High     Low  \\\n",
      "0     2000-01-03  INDUSINDBK     EQ       26.80   28.90   28.95   28.00   \n",
      "1     2000-01-04  INDUSINDBK     EQ       28.95   30.85   31.25   27.90   \n",
      "2     2000-01-05  INDUSINDBK     EQ       30.25   29.90   30.00   27.85   \n",
      "3     2000-01-06  INDUSINDBK     EQ       28.15   29.25   29.35   27.95   \n",
      "4     2000-01-07  INDUSINDBK     EQ       28.00   27.20   28.00   26.50   \n",
      "...          ...         ...    ...         ...     ...     ...     ...   \n",
      "4980  2021-04-26  INDUSINDBK     EQ      850.00  857.00  870.95  851.45   \n",
      "4981  2021-04-27  INDUSINDBK     EQ      859.55  859.55  886.00  859.00   \n",
      "4982  2021-04-28  INDUSINDBK     EQ      882.45  890.00  931.00  888.00   \n",
      "4983  2021-04-29  INDUSINDBK     EQ      926.90  936.85  958.85  917.10   \n",
      "4984  2021-04-30  INDUSINDBK     EQ      939.45  928.00  948.50  915.10   \n",
      "\n",
      "        Last   Close    VWAP    Volume      Turnover  \n",
      "0      28.95   28.95   28.69    107224  3.075827e+11  \n",
      "1      30.60   30.25   29.12    182693  5.320731e+11  \n",
      "2      28.45   28.15   28.72    162820  4.675717e+11  \n",
      "3      27.95   28.00   28.55     87901  2.510007e+11  \n",
      "4      27.20   27.05   27.09     65684  1.779190e+11  \n",
      "...      ...     ...     ...       ...           ...  \n",
      "4980  859.00  859.55  861.04   4894557  4.214417e+14  \n",
      "4981  883.55  882.45  873.46   5202133  4.543845e+14  \n",
      "4982  925.90  926.90  914.54   9935828  9.086735e+14  \n",
      "4983  942.45  939.45  936.94  12187280  1.141878e+15  \n",
      "4984  934.95  934.95  936.92   7301455  6.840900e+14  \n",
      "\n",
      "[4985 rows x 12 columns]\n",
      "\n",
      "Rows and columns has a NaN:\n",
      "        Trades  Deliverable Volume  %Deliverble\n",
      "0          NaN                 NaN          NaN\n",
      "1          NaN                 NaN          NaN\n",
      "2          NaN                 NaN          NaN\n",
      "3          NaN                 NaN          NaN\n",
      "4          NaN                 NaN          NaN\n",
      "...        ...                 ...          ...\n",
      "4980   89276.0            637531.0       0.1303\n",
      "4981   96508.0           1095365.0       0.2106\n",
      "4982  179909.0           1616632.0       0.1627\n",
      "4983  201702.0           1453609.0       0.1193\n",
      "4984  117673.0            962818.0       0.1319\n",
      "\n",
      "[4985 rows x 3 columns]\n",
      "\n",
      "Drop rows with any NaNs:\n",
      "            Date      Symbol Series  Prev Close    Open    High     Low  \\\n",
      "2529  2011-06-01  INDUSINDBK     EQ      264.05  264.05  266.30  262.40   \n",
      "2530  2011-06-02  INDUSINDBK     EQ      264.70  261.95  262.80  255.10   \n",
      "2531  2011-06-03  INDUSINDBK     EQ      261.60  257.25  268.80  257.25   \n",
      "2532  2011-06-06  INDUSINDBK     EQ      267.10  266.90  268.85  264.80   \n",
      "2533  2011-06-07  INDUSINDBK     EQ      265.75  265.00  268.95  263.50   \n",
      "...          ...         ...    ...         ...     ...     ...     ...   \n",
      "4980  2021-04-26  INDUSINDBK     EQ      850.00  857.00  870.95  851.45   \n",
      "4981  2021-04-27  INDUSINDBK     EQ      859.55  859.55  886.00  859.00   \n",
      "4982  2021-04-28  INDUSINDBK     EQ      882.45  890.00  931.00  888.00   \n",
      "4983  2021-04-29  INDUSINDBK     EQ      926.90  936.85  958.85  917.10   \n",
      "4984  2021-04-30  INDUSINDBK     EQ      939.45  928.00  948.50  915.10   \n",
      "\n",
      "        Last   Close    VWAP    Volume      Turnover    Trades  \\\n",
      "2529  263.65  264.70  264.76    330414  8.748092e+12    3530.0   \n",
      "2530  261.75  261.60  261.15    265398  6.930793e+12    4096.0   \n",
      "2531  268.50  267.10  265.65    580231  1.541394e+13   15175.0   \n",
      "2532  265.80  265.75  266.11    329709  8.773761e+12    4001.0   \n",
      "2533  266.75  267.25  266.55    341940  9.114531e+12    3642.0   \n",
      "...      ...     ...     ...       ...           ...       ...   \n",
      "4980  859.00  859.55  861.04   4894557  4.214417e+14   89276.0   \n",
      "4981  883.55  882.45  873.46   5202133  4.543845e+14   96508.0   \n",
      "4982  925.90  926.90  914.54   9935828  9.086735e+14  179909.0   \n",
      "4983  942.45  939.45  936.94  12187280  1.141878e+15  201702.0   \n",
      "4984  934.95  934.95  936.92   7301455  6.840900e+14  117673.0   \n",
      "\n",
      "      Deliverable Volume  %Deliverble  \n",
      "2529            192178.0       0.5816  \n",
      "2530            119990.0       0.4521  \n",
      "2531            300053.0       0.5171  \n",
      "2532            173565.0       0.5264  \n",
      "2533            197968.0       0.5790  \n",
      "...                  ...          ...  \n",
      "4980            637531.0       0.1303  \n",
      "4981           1095365.0       0.2106  \n",
      "4982           1616632.0       0.1627  \n",
      "4983           1453609.0       0.1193  \n",
      "4984            962818.0       0.1319  \n",
      "\n",
      "[2456 rows x 15 columns]\n"
     ]
    }
   ],
   "source": [
    "#Name :- Archit B Shah\n",
    "#Enrollement :- 216270307007\n",
    "\n",
    "import pandas as pd\n",
    "df = pd.read_csv('/kaggle/input/nifty50-stock-market-data/INDUSINDBK.csv') \n",
    "print(\"Indus India Bank sample data:\")\n",
    "print(df.head())\n",
    "print(\"\\nFind  all columns which all entries present:\")\n",
    "print(df.loc[:, df.notnull().all()])\n",
    "print(\"\\nRows and columns has a NaN:\")\n",
    "print(df.loc[:,df.isnull().any()])\n",
    "print(\"\\nDrop rows with any NaNs:\")\n",
    "print(df.dropna(how='any')) "
   ]
  },
  {
   "cell_type": "code",
   "execution_count": null,
   "id": "47f0f0ce",
   "metadata": {
    "papermill": {
     "duration": 0.001584,
     "end_time": "2023-10-20T06:57:30.405386",
     "exception": false,
     "start_time": "2023-10-20T06:57:30.403802",
     "status": "completed"
    },
    "tags": []
   },
   "outputs": [],
   "source": []
  }
 ],
 "metadata": {
  "kernelspec": {
   "display_name": "Python 3",
   "language": "python",
   "name": "python3"
  },
  "language_info": {
   "codemirror_mode": {
    "name": "ipython",
    "version": 3
   },
   "file_extension": ".py",
   "mimetype": "text/x-python",
   "name": "python",
   "nbconvert_exporter": "python",
   "pygments_lexer": "ipython3",
   "version": "3.10.12"
  },
  "papermill": {
   "default_parameters": {},
   "duration": 4.43997,
   "end_time": "2023-10-20T06:57:30.928105",
   "environment_variables": {},
   "exception": null,
   "input_path": "__notebook__.ipynb",
   "output_path": "__notebook__.ipynb",
   "parameters": {},
   "start_time": "2023-10-20T06:57:26.488135",
   "version": "2.4.0"
  }
 },
 "nbformat": 4,
 "nbformat_minor": 5
}
