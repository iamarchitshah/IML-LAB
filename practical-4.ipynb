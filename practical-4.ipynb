{
 "cells": [
  {
   "cell_type": "markdown",
   "id": "267c5473",
   "metadata": {
    "_cell_guid": "b1076dfc-b9ad-4769-8c92-a6c4dae69d19",
    "_uuid": "8f2839f25d086af736a60e9eeb907d3b93b6e0e5",
    "papermill": {
     "duration": 0.00736,
     "end_time": "2023-09-11T11:26:27.806704",
     "exception": false,
     "start_time": "2023-09-11T11:26:27.799344",
     "status": "completed"
    },
    "tags": []
   },
   "source": [
    "# Practical - 4 : Write a NumPy program to implementfollowing operation"
   ]
  },
  {
   "cell_type": "markdown",
   "id": "d66bed0d",
   "metadata": {
    "papermill": {
     "duration": 0.004985,
     "end_time": "2023-09-11T11:26:27.817677",
     "exception": false,
     "start_time": "2023-09-11T11:26:27.812692",
     "status": "completed"
    },
    "tags": []
   },
   "source": [
    "### • to add, subtract, multiply, divide arguments element-wise"
   ]
  },
  {
   "cell_type": "code",
   "execution_count": 1,
   "id": "1e1c84e1",
   "metadata": {
    "execution": {
     "iopub.execute_input": "2023-09-11T11:26:27.829617Z",
     "iopub.status.busy": "2023-09-11T11:26:27.829223Z",
     "iopub.status.idle": "2023-09-11T11:26:27.844747Z",
     "shell.execute_reply": "2023-09-11T11:26:27.843539Z"
    },
    "papermill": {
     "duration": 0.024724,
     "end_time": "2023-09-11T11:26:27.847491",
     "exception": false,
     "start_time": "2023-09-11T11:26:27.822767",
     "status": "completed"
    },
    "tags": []
   },
   "outputs": [
    {
     "name": "stdout",
     "output_type": "stream",
     "text": [
      "Add :- 3.0\n",
      "Subtract :- -1.0\n",
      "Multiply :- 2.0\n",
      "Divide :- 0.5\n"
     ]
    }
   ],
   "source": [
    "# Name : Archit B Shah\n",
    "# Enrollment No : 216270307007\n",
    "\n",
    "import numpy as np\n",
    "\n",
    "print(\"Add :- \",end =\"\")\n",
    "print(np.add(1.0,2.0))\n",
    "\n",
    "print(\"Subtract :- \",end=\"\")\n",
    "print(np.subtract(1.0,2.0))\n",
    "\n",
    "print(\"Multiply :- \",end=\"\")\n",
    "print(np.multiply(1.0,2.0))\n",
    "\n",
    "print(\"Divide :- \",end=\"\")\n",
    "print(np.divide(1.0,2.0))"
   ]
  },
  {
   "cell_type": "markdown",
   "id": "74c54d9a",
   "metadata": {
    "papermill": {
     "duration": 0.005133,
     "end_time": "2023-09-11T11:26:27.858276",
     "exception": false,
     "start_time": "2023-09-11T11:26:27.853143",
     "status": "completed"
    },
    "tags": []
   },
   "source": [
    "### • to round elements of the array to the nearest integer"
   ]
  },
  {
   "cell_type": "code",
   "execution_count": 2,
   "id": "024696e2",
   "metadata": {
    "execution": {
     "iopub.execute_input": "2023-09-11T11:26:27.870364Z",
     "iopub.status.busy": "2023-09-11T11:26:27.869931Z",
     "iopub.status.idle": "2023-09-11T11:26:27.878796Z",
     "shell.execute_reply": "2023-09-11T11:26:27.877612Z"
    },
    "papermill": {
     "duration": 0.017708,
     "end_time": "2023-09-11T11:26:27.881217",
     "exception": false,
     "start_time": "2023-09-11T11:26:27.863509",
     "status": "completed"
    },
    "tags": []
   },
   "outputs": [
    {
     "name": "stdout",
     "output_type": "stream",
     "text": [
      "Original array :- [0.2 0.7 1.3 1.5]\n",
      "After rounding array :- [0. 1. 1. 2.]\n"
     ]
    }
   ],
   "source": [
    "# Name : Archit B Shah\n",
    "# Enrollment No : 216270307007\n",
    "\n",
    "import numpy as np\n",
    "\n",
    "arr = np.array([0.2,0.7,1.3,1.5])\n",
    "print(\"Original array :- \",end=\"\")\n",
    "print(arr)\n",
    "\n",
    "arr = np.rint(arr)\n",
    "print(\"After rounding array :- \",end=\"\")\n",
    "print(arr)"
   ]
  },
  {
   "cell_type": "markdown",
   "id": "00a817f1",
   "metadata": {
    "papermill": {
     "duration": 0.00638,
     "end_time": "2023-09-11T11:26:27.893560",
     "exception": false,
     "start_time": "2023-09-11T11:26:27.887180",
     "status": "completed"
    },
    "tags": []
   },
   "source": [
    "### • to calculate mean across dimension, in a 2D numpy array"
   ]
  },
  {
   "cell_type": "code",
   "execution_count": 3,
   "id": "4c211f8a",
   "metadata": {
    "execution": {
     "iopub.execute_input": "2023-09-11T11:26:27.906599Z",
     "iopub.status.busy": "2023-09-11T11:26:27.906199Z",
     "iopub.status.idle": "2023-09-11T11:26:27.914193Z",
     "shell.execute_reply": "2023-09-11T11:26:27.913097Z"
    },
    "papermill": {
     "duration": 0.017947,
     "end_time": "2023-09-11T11:26:27.917077",
     "exception": false,
     "start_time": "2023-09-11T11:26:27.899130",
     "status": "completed"
    },
    "tags": []
   },
   "outputs": [
    {
     "name": "stdout",
     "output_type": "stream",
     "text": [
      "Original array :- [[10 20]\n",
      " [40 50]]\n",
      "[25. 35.]\n",
      "[15. 45.]\n"
     ]
    }
   ],
   "source": [
    "# Name : Archit B Shah\n",
    "# Enrollment No : 216270307007\n",
    "\n",
    "import numpy as np\n",
    "\n",
    "arr = np.array([[10,20],[40,50]])\n",
    "print(\"Original array :- \",end=\"\")\n",
    "print(arr)\n",
    "\n",
    "x = np.mean(arr,axis=0)\n",
    "print(x)\n",
    "\n",
    "y = np.mean(arr,axis=1)\n",
    "print(y)"
   ]
  },
  {
   "cell_type": "markdown",
   "id": "5eca8775",
   "metadata": {
    "papermill": {
     "duration": 0.005293,
     "end_time": "2023-09-11T11:26:27.927931",
     "exception": false,
     "start_time": "2023-09-11T11:26:27.922638",
     "status": "completed"
    },
    "tags": []
   },
   "source": [
    "### • to calculate the difference between neighboring elements, element-wise of a given array"
   ]
  },
  {
   "cell_type": "code",
   "execution_count": 4,
   "id": "3eaaff93",
   "metadata": {
    "execution": {
     "iopub.execute_input": "2023-09-11T11:26:27.940605Z",
     "iopub.status.busy": "2023-09-11T11:26:27.940176Z",
     "iopub.status.idle": "2023-09-11T11:26:27.949279Z",
     "shell.execute_reply": "2023-09-11T11:26:27.948150Z"
    },
    "papermill": {
     "duration": 0.01838,
     "end_time": "2023-09-11T11:26:27.951843",
     "exception": false,
     "start_time": "2023-09-11T11:26:27.933463",
     "status": "completed"
    },
    "tags": []
   },
   "outputs": [
    {
     "name": "stdout",
     "output_type": "stream",
     "text": [
      "Original array :- [  5   9  25  50  75  95 125 150]\n",
      "Ans :- [ 4 16 25 25 20 30 25]\n"
     ]
    }
   ],
   "source": [
    "# Name : Archit B Shah\n",
    "# Enrollment No : 216270307007\n",
    "\n",
    "import numpy as np\n",
    "\n",
    "arr = np.array([5,9,25,50,75,95,125,150])\n",
    "print(\"Original array :- \",end=\"\")\n",
    "print(arr)\n",
    "\n",
    "ans = np.diff(arr)\n",
    "print(\"Ans :- \",end=\"\")\n",
    "print(ans)"
   ]
  },
  {
   "cell_type": "code",
   "execution_count": null,
   "id": "0074559a",
   "metadata": {
    "papermill": {
     "duration": 0.005446,
     "end_time": "2023-09-11T11:26:27.963088",
     "exception": false,
     "start_time": "2023-09-11T11:26:27.957642",
     "status": "completed"
    },
    "tags": []
   },
   "outputs": [],
   "source": []
  }
 ],
 "kernelspec": {
  "display_name": "Python 3",
  "language": "python",
  "name": "python3"
 },
 "language_info": {
  "codemirror_mode": {
   "name": "ipython",
   "version": 3
  },
  "file_extension": ".py",
  "mimetype": "text/x-python",
  "name": "python",
  "nbconvert_exporter": "python",
  "pygments_lexer": "ipython3",
  "version": "3.6.4"
 },
 "metadata": {
  "kernelspec": {
   "display_name": "Python 3",
   "language": "python",
   "name": "python3"
  },
  "language_info": {
   "codemirror_mode": {
    "name": "ipython",
    "version": 3
   },
   "file_extension": ".py",
   "mimetype": "text/x-python",
   "name": "python",
   "nbconvert_exporter": "python",
   "pygments_lexer": "ipython3",
   "version": "3.10.12"
  },
  "papermill": {
   "default_parameters": {},
   "duration": 4.050267,
   "end_time": "2023-09-11T11:26:28.388407",
   "environment_variables": {},
   "exception": null,
   "input_path": "__notebook__.ipynb",
   "output_path": "__notebook__.ipynb",
   "parameters": {},
   "start_time": "2023-09-11T11:26:24.338140",
   "version": "2.4.0"
  }
 },
 "nbformat": 4,
 "nbformat_minor": 5
}
