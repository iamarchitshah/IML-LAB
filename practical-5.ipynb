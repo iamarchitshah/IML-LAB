{
 "cells": [
  {
   "cell_type": "markdown",
   "id": "1fd79663",
   "metadata": {
    "_cell_guid": "b1076dfc-b9ad-4769-8c92-a6c4dae69d19",
    "_uuid": "8f2839f25d086af736a60e9eeb907d3b93b6e0e5",
    "papermill": {
     "duration": 0.005196,
     "end_time": "2023-09-11T11:36:39.101053",
     "exception": false,
     "start_time": "2023-09-11T11:36:39.095857",
     "status": "completed"
    },
    "tags": []
   },
   "source": [
    "# Practical-5 : Write a NumPy program to implement following operation\n"
   ]
  },
  {
   "cell_type": "markdown",
   "id": "9403cb47",
   "metadata": {
    "papermill": {
     "duration": 0.004274,
     "end_time": "2023-09-11T11:36:39.110497",
     "exception": false,
     "start_time": "2023-09-11T11:36:39.106223",
     "status": "completed"
    },
    "tags": []
   },
   "source": [
    "### • to find the maximum and minimum value of a given flattened array\n",
    "\n"
   ]
  },
  {
   "cell_type": "code",
   "execution_count": 1,
   "id": "bfee451c",
   "metadata": {
    "execution": {
     "iopub.execute_input": "2023-09-11T11:36:39.121072Z",
     "iopub.status.busy": "2023-09-11T11:36:39.120658Z",
     "iopub.status.idle": "2023-09-11T11:36:39.137695Z",
     "shell.execute_reply": "2023-09-11T11:36:39.136554Z"
    },
    "papermill": {
     "duration": 0.025537,
     "end_time": "2023-09-11T11:36:39.140466",
     "exception": false,
     "start_time": "2023-09-11T11:36:39.114929",
     "status": "completed"
    },
    "tags": []
   },
   "outputs": [
    {
     "name": "stdout",
     "output_type": "stream",
     "text": [
      "Original array :- [[18 34 74]\n",
      " [25 56 84]]\n",
      "Maximum value :- 84\n",
      "Minimum value :- 18\n"
     ]
    }
   ],
   "source": [
    "# Name : Archit B Shah\n",
    "# Enrollment No : 216270307007\n",
    "\n",
    "import numpy as np\n",
    "\n",
    "arr = np.array([[18,34,74],[25,56,84]])\n",
    "\n",
    "print(\"Original array :- \",end=\"\")\n",
    "print(arr)\n",
    "\n",
    "print(\"Maximum value :- \",end=\"\")\n",
    "max = np.amax(arr)\n",
    "print(max)\n",
    "\n",
    "print(\"Minimum value :- \",end=\"\")\n",
    "min = np.amin(arr)\n",
    "print(min)"
   ]
  },
  {
   "cell_type": "markdown",
   "id": "e016753f",
   "metadata": {
    "papermill": {
     "duration": 0.00442,
     "end_time": "2023-09-11T11:36:39.149548",
     "exception": false,
     "start_time": "2023-09-11T11:36:39.145128",
     "status": "completed"
    },
    "tags": []
   },
   "source": [
    "### • to compute the mean, standard deviation, and variance of a given array along the second axis"
   ]
  },
  {
   "cell_type": "code",
   "execution_count": 2,
   "id": "dddbf50d",
   "metadata": {
    "execution": {
     "iopub.execute_input": "2023-09-11T11:36:39.160276Z",
     "iopub.status.busy": "2023-09-11T11:36:39.159850Z",
     "iopub.status.idle": "2023-09-11T11:36:39.170476Z",
     "shell.execute_reply": "2023-09-11T11:36:39.169211Z"
    },
    "papermill": {
     "duration": 0.019883,
     "end_time": "2023-09-11T11:36:39.173919",
     "exception": false,
     "start_time": "2023-09-11T11:36:39.154036",
     "status": "completed"
    },
    "tags": []
   },
   "outputs": [
    {
     "name": "stdout",
     "output_type": "stream",
     "text": [
      "Original array :- [[10 20 30]\n",
      " [40 50 60]]\n",
      "Mean value :-[20. 50.]\n",
      "Standar deviation :- [8.16496581 8.16496581]\n",
      "Variance :- [66.66666667 66.66666667]\n"
     ]
    }
   ],
   "source": [
    "# Name : Archit B Shah\n",
    "# Enrollment No : 216270307007\n",
    "\n",
    "import numpy as np\n",
    "\n",
    "arr = np.array([[10,20,30],[40,50,60]])\n",
    "\n",
    "print(\"Original array :- \",end=\"\")\n",
    "print(arr)\n",
    "\n",
    "mean = np.mean(arr, axis = 1)\n",
    "print(\"Mean value :-\",end=\"\")\n",
    "print(mean)\n",
    "\n",
    "std = np.std(arr, axis = 1)\n",
    "print(\"Standar deviation :- \",end=\"\")\n",
    "print(std)\n",
    "\n",
    "var = np.var(arr, axis = 1)\n",
    "print(\"Variance :- \",end=\"\")\n",
    "print(var)"
   ]
  },
  {
   "cell_type": "code",
   "execution_count": null,
   "id": "dd8d926c",
   "metadata": {
    "papermill": {
     "duration": 0.004708,
     "end_time": "2023-09-11T11:36:39.183806",
     "exception": false,
     "start_time": "2023-09-11T11:36:39.179098",
     "status": "completed"
    },
    "tags": []
   },
   "outputs": [],
   "source": []
  }
 ],
 "kernelspec": {
  "display_name": "Python 3",
  "language": "python",
  "name": "python3"
 },
 "language_info": {
  "codemirror_mode": {
   "name": "ipython",
   "version": 3
  },
  "file_extension": ".py",
  "mimetype": "text/x-python",
  "name": "python",
  "nbconvert_exporter": "python",
  "pygments_lexer": "ipython3",
  "version": "3.6.4"
 },
 "metadata": {
  "kernelspec": {
   "display_name": "Python 3",
   "language": "python",
   "name": "python3"
  },
  "language_info": {
   "codemirror_mode": {
    "name": "ipython",
    "version": 3
   },
   "file_extension": ".py",
   "mimetype": "text/x-python",
   "name": "python",
   "nbconvert_exporter": "python",
   "pygments_lexer": "ipython3",
   "version": "3.10.12"
  },
  "papermill": {
   "default_parameters": {},
   "duration": 4.248839,
   "end_time": "2023-09-11T11:36:39.608972",
   "environment_variables": {},
   "exception": null,
   "input_path": "__notebook__.ipynb",
   "output_path": "__notebook__.ipynb",
   "parameters": {},
   "start_time": "2023-09-11T11:36:35.360133",
   "version": "2.4.0"
  }
 },
 "nbformat": 4,
 "nbformat_minor": 5
}
