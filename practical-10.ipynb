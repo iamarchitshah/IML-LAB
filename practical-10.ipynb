{
 "cells": [
  {
   "cell_type": "markdown",
   "id": "c25561a4",
   "metadata": {
    "_cell_guid": "b1076dfc-b9ad-4769-8c92-a6c4dae69d19",
    "_uuid": "8f2839f25d086af736a60e9eeb907d3b93b6e0e5",
    "papermill": {
     "duration": 0.002097,
     "end_time": "2023-10-20T07:00:15.721173",
     "exception": false,
     "start_time": "2023-10-20T07:00:15.719076",
     "status": "completed"
    },
    "tags": []
   },
   "source": [
    "### Write A pandas program to implement  following operations"
   ]
  },
  {
   "cell_type": "markdown",
   "id": "da0e7ae1",
   "metadata": {
    "papermill": {
     "duration": 0.001102,
     "end_time": "2023-10-20T07:00:15.723799",
     "exception": false,
     "start_time": "2023-10-20T07:00:15.722697",
     "status": "completed"
    },
    "tags": []
   },
   "source": [
    "## ● to find and drop the missing values from the given dataset\n"
   ]
  },
  {
   "cell_type": "code",
   "execution_count": 1,
   "id": "165e2674",
   "metadata": {
    "execution": {
     "iopub.execute_input": "2023-10-20T07:00:15.730012Z",
     "iopub.status.busy": "2023-10-20T07:00:15.728919Z",
     "iopub.status.idle": "2023-10-20T07:00:16.064777Z",
     "shell.execute_reply": "2023-10-20T07:00:16.063870Z"
    },
    "papermill": {
     "duration": 0.340611,
     "end_time": "2023-10-20T07:00:16.067010",
     "exception": false,
     "start_time": "2023-10-20T07:00:15.726399",
     "status": "completed"
    },
    "tags": []
   },
   "outputs": [
    {
     "name": "stdout",
     "output_type": "stream",
     "text": [
      "            Date    Symbol Series  Prev Close   Open    High     Low    Last  \\\n",
      "0     2000-01-03   UTIBANK     EQ       24.70   26.7   26.70   26.70   26.70   \n",
      "1     2000-01-04   UTIBANK     EQ       26.70   27.0   28.70   26.50   27.00   \n",
      "2     2000-01-05   UTIBANK     EQ       26.85   26.0   27.75   25.50   26.40   \n",
      "3     2000-01-06   UTIBANK     EQ       26.30   25.8   27.00   25.80   25.90   \n",
      "4     2000-01-07   UTIBANK     EQ       25.95   25.0   26.00   24.25   25.00   \n",
      "...          ...       ...    ...         ...    ...     ...     ...     ...   \n",
      "5301  2021-04-26  AXISBANK     EQ      671.35  694.0  703.80  684.50  699.50   \n",
      "5302  2021-04-27  AXISBANK     EQ      700.45  691.1  703.90  684.10  700.90   \n",
      "5303  2021-04-28  AXISBANK     EQ      699.55  708.0  712.50  688.15  705.95   \n",
      "5304  2021-04-29  AXISBANK     EQ      708.15  712.0  726.90  707.00  717.10   \n",
      "5305  2021-04-30  AXISBANK     EQ      719.40  705.0  729.85  705.00  711.65   \n",
      "\n",
      "       Close    VWAP    Volume      Turnover    Trades  Deliverable Volume  \\\n",
      "0      26.70   26.70    112100  2.993070e+11       NaN                 NaN   \n",
      "1      26.85   27.24    234500  6.387275e+11       NaN                 NaN   \n",
      "2      26.30   26.24    170100  4.462980e+11       NaN                 NaN   \n",
      "3      25.95   26.27    102100  2.681730e+11       NaN                 NaN   \n",
      "4      24.80   25.04     62600  1.567220e+11       NaN                 NaN   \n",
      "...      ...     ...       ...           ...       ...                 ...   \n",
      "5301  700.45  695.33  21646184  1.505120e+15  286480.0           5949937.0   \n",
      "5302  699.55  692.83  46559967  3.225830e+15  289445.0          18080082.0   \n",
      "5303  708.15  701.92  54060587  3.794635e+15  507747.0          17851331.0   \n",
      "5304  719.40  717.41  25939327  1.860920e+15  312079.0           7357520.0   \n",
      "5305  714.90  719.36  23011654  1.655365e+15  232879.0           6786072.0   \n",
      "\n",
      "      %Deliverble  \n",
      "0             NaN  \n",
      "1             NaN  \n",
      "2             NaN  \n",
      "3             NaN  \n",
      "4             NaN  \n",
      "...           ...  \n",
      "5301       0.2749  \n",
      "5302       0.3883  \n",
      "5303       0.3302  \n",
      "5304       0.2836  \n",
      "5305       0.2949  \n",
      "\n",
      "[5306 rows x 15 columns]\n",
      "\n",
      " \n",
      " \n",
      " \n",
      "       Date  Symbol  Series  Prev Close   Open   High    Low   Last  Close  \\\n",
      "0     False   False   False       False  False  False  False  False  False   \n",
      "1     False   False   False       False  False  False  False  False  False   \n",
      "2     False   False   False       False  False  False  False  False  False   \n",
      "3     False   False   False       False  False  False  False  False  False   \n",
      "4     False   False   False       False  False  False  False  False  False   \n",
      "...     ...     ...     ...         ...    ...    ...    ...    ...    ...   \n",
      "5301  False   False   False       False  False  False  False  False  False   \n",
      "5302  False   False   False       False  False  False  False  False  False   \n",
      "5303  False   False   False       False  False  False  False  False  False   \n",
      "5304  False   False   False       False  False  False  False  False  False   \n",
      "5305  False   False   False       False  False  False  False  False  False   \n",
      "\n",
      "       VWAP  Volume  Turnover  Trades  Deliverable Volume  %Deliverble  \n",
      "0     False   False     False    True                True         True  \n",
      "1     False   False     False    True                True         True  \n",
      "2     False   False     False    True                True         True  \n",
      "3     False   False     False    True                True         True  \n",
      "4     False   False     False    True                True         True  \n",
      "...     ...     ...       ...     ...                 ...          ...  \n",
      "5301  False   False     False   False               False        False  \n",
      "5302  False   False     False   False               False        False  \n",
      "5303  False   False     False   False               False        False  \n",
      "5304  False   False     False   False               False        False  \n",
      "5305  False   False     False   False               False        False  \n",
      "\n",
      "[5306 rows x 15 columns]\n",
      "\n",
      " \n",
      " \n",
      " \n",
      "            Date    Symbol Series  Prev Close     Open     High      Low  \\\n",
      "2850  2011-06-01  AXISBANK     EQ     1282.50  1282.25  1291.75  1265.20   \n",
      "2851  2011-06-02  AXISBANK     EQ     1278.25  1255.10  1285.00  1255.10   \n",
      "2852  2011-06-03  AXISBANK     EQ     1273.75  1272.00  1288.00  1224.00   \n",
      "2853  2011-06-06  AXISBANK     EQ     1242.75  1242.00  1242.00  1208.15   \n",
      "2854  2011-06-07  AXISBANK     EQ     1235.45  1227.00  1252.90  1224.75   \n",
      "...          ...       ...    ...         ...      ...      ...      ...   \n",
      "5301  2021-04-26  AXISBANK     EQ      671.35   694.00   703.80   684.50   \n",
      "5302  2021-04-27  AXISBANK     EQ      700.45   691.10   703.90   684.10   \n",
      "5303  2021-04-28  AXISBANK     EQ      699.55   708.00   712.50   688.15   \n",
      "5304  2021-04-29  AXISBANK     EQ      708.15   712.00   726.90   707.00   \n",
      "5305  2021-04-30  AXISBANK     EQ      719.40   705.00   729.85   705.00   \n",
      "\n",
      "         Last    Close     VWAP    Volume      Turnover    Trades  \\\n",
      "2850  1277.25  1278.25  1278.97    792282  1.013307e+14   26996.0   \n",
      "2851  1280.00  1273.75  1271.87    867797  1.103726e+14   29661.0   \n",
      "2852  1243.00  1242.75  1258.90   1413508  1.779467e+14   45306.0   \n",
      "2853  1235.10  1235.45  1226.10   1886949  2.313594e+14   46968.0   \n",
      "2854  1245.80  1244.65  1243.60   1043816  1.298086e+14   30220.0   \n",
      "...       ...      ...      ...       ...           ...       ...   \n",
      "5301   699.50   700.45   695.33  21646184  1.505120e+15  286480.0   \n",
      "5302   700.90   699.55   692.83  46559967  3.225830e+15  289445.0   \n",
      "5303   705.95   708.15   701.92  54060587  3.794635e+15  507747.0   \n",
      "5304   717.10   719.40   717.41  25939327  1.860920e+15  312079.0   \n",
      "5305   711.65   714.90   719.36  23011654  1.655365e+15  232879.0   \n",
      "\n",
      "      Deliverable Volume  %Deliverble  \n",
      "2850            168311.0       0.2124  \n",
      "2851            329956.0       0.3802  \n",
      "2852            589189.0       0.4168  \n",
      "2853            970371.0       0.5143  \n",
      "2854            411664.0       0.3944  \n",
      "...                  ...          ...  \n",
      "5301           5949937.0       0.2749  \n",
      "5302          18080082.0       0.3883  \n",
      "5303          17851331.0       0.3302  \n",
      "5304           7357520.0       0.2836  \n",
      "5305           6786072.0       0.2949  \n",
      "\n",
      "[2456 rows x 15 columns]\n"
     ]
    }
   ],
   "source": [
    "# Name : Archit B Shah\n",
    "# Enrollment No : 216270307007\n",
    "import pandas as pd \n",
    "df = pd.read_csv('/kaggle/input/nifty50-stock-market-data/AXISBANK.csv')\n",
    "missing = df.isna()\n",
    "df_clean = df.dropna(axis=0)\n",
    "print(df)\n",
    "print(\"\\n \\n \\n \")\n",
    "print(missing)\n",
    "print(\"\\n \\n \\n \")\n",
    "print(df_clean)"
   ]
  },
  {
   "cell_type": "markdown",
   "id": "d2ff053f",
   "metadata": {
    "papermill": {
     "duration": 0.001411,
     "end_time": "2023-10-20T07:00:16.070279",
     "exception": false,
     "start_time": "2023-10-20T07:00:16.068868",
     "status": "completed"
    },
    "tags": []
   },
   "source": [
    "## ● to remove the duplicates from the given dataset.\n"
   ]
  },
  {
   "cell_type": "markdown",
   "id": "1225068b",
   "metadata": {
    "papermill": {
     "duration": 0.001277,
     "end_time": "2023-10-20T07:00:16.073030",
     "exception": false,
     "start_time": "2023-10-20T07:00:16.071753",
     "status": "completed"
    },
    "tags": []
   },
   "source": []
  },
  {
   "cell_type": "code",
   "execution_count": 2,
   "id": "87cd3516",
   "metadata": {
    "execution": {
     "iopub.execute_input": "2023-10-20T07:00:16.077558Z",
     "iopub.status.busy": "2023-10-20T07:00:16.077194Z",
     "iopub.status.idle": "2023-10-20T07:00:16.114549Z",
     "shell.execute_reply": "2023-10-20T07:00:16.113194Z"
    },
    "papermill": {
     "duration": 0.041976,
     "end_time": "2023-10-20T07:00:16.116456",
     "exception": false,
     "start_time": "2023-10-20T07:00:16.074480",
     "status": "completed"
    },
    "tags": []
   },
   "outputs": [
    {
     "name": "stdout",
     "output_type": "stream",
     "text": [
      "      Education  JoiningYear       City  PaymentTier  Age  Gender EverBenched  \\\n",
      "0     Bachelors         2017  Bangalore            3   34    Male          No   \n",
      "1     Bachelors         2013       Pune            1   28  Female          No   \n",
      "2     Bachelors         2014  New Delhi            3   38  Female          No   \n",
      "3       Masters         2016  Bangalore            3   27    Male          No   \n",
      "4       Masters         2017       Pune            3   24    Male         Yes   \n",
      "...         ...          ...        ...          ...  ...     ...         ...   \n",
      "4648  Bachelors         2013  Bangalore            3   26  Female          No   \n",
      "4649    Masters         2013       Pune            2   37    Male          No   \n",
      "4650    Masters         2018  New Delhi            3   27    Male          No   \n",
      "4651  Bachelors         2012  Bangalore            3   30    Male         Yes   \n",
      "4652  Bachelors         2015  Bangalore            3   33    Male         Yes   \n",
      "\n",
      "      ExperienceInCurrentDomain  LeaveOrNot  \n",
      "0                             0           0  \n",
      "1                             3           1  \n",
      "2                             2           0  \n",
      "3                             5           1  \n",
      "4                             2           1  \n",
      "...                         ...         ...  \n",
      "4648                          4           0  \n",
      "4649                          2           1  \n",
      "4650                          5           1  \n",
      "4651                          2           0  \n",
      "4652                          4           0  \n",
      "\n",
      "[4653 rows x 9 columns]\n",
      "\n",
      " \n",
      " \n",
      "\n",
      "      Education  JoiningYear       City  PaymentTier  Age  Gender EverBenched  \\\n",
      "0     Bachelors         2017  Bangalore            3   34    Male          No   \n",
      "1     Bachelors         2013       Pune            1   28  Female          No   \n",
      "2     Bachelors         2014  New Delhi            3   38  Female          No   \n",
      "3       Masters         2016  Bangalore            3   27    Male          No   \n",
      "4       Masters         2017       Pune            3   24    Male         Yes   \n",
      "...         ...          ...        ...          ...  ...     ...         ...   \n",
      "4645    Masters         2017       Pune            2   31  Female          No   \n",
      "4647  Bachelors         2016       Pune            3   30    Male          No   \n",
      "4649    Masters         2013       Pune            2   37    Male          No   \n",
      "4650    Masters         2018  New Delhi            3   27    Male          No   \n",
      "4651  Bachelors         2012  Bangalore            3   30    Male         Yes   \n",
      "\n",
      "      ExperienceInCurrentDomain  LeaveOrNot  \n",
      "0                             0           0  \n",
      "1                             3           1  \n",
      "2                             2           0  \n",
      "3                             5           1  \n",
      "4                             2           1  \n",
      "...                         ...         ...  \n",
      "4645                          2           0  \n",
      "4647                          2           0  \n",
      "4649                          2           1  \n",
      "4650                          5           1  \n",
      "4651                          2           0  \n",
      "\n",
      "[2764 rows x 9 columns]\n"
     ]
    }
   ],
   "source": [
    "#Name : Archit B Shah\n",
    "# Enrollment No: 216270307007\n",
    "import pandas as pd \n",
    "df = pd.read_csv('/kaggle/input/employee-dataset/Employee.csv')\n",
    "df_cleaned = df.drop_duplicates() \n",
    "print(df) \n",
    "print(\"\\n \\n \\n\") \n",
    "print(df_cleaned)\n"
   ]
  },
  {
   "cell_type": "code",
   "execution_count": null,
   "id": "4acf3d0e",
   "metadata": {
    "papermill": {
     "duration": 0.001509,
     "end_time": "2023-10-20T07:00:16.119858",
     "exception": false,
     "start_time": "2023-10-20T07:00:16.118349",
     "status": "completed"
    },
    "tags": []
   },
   "outputs": [],
   "source": []
  }
 ],
 "metadata": {
  "kernelspec": {
   "display_name": "Python 3",
   "language": "python",
   "name": "python3"
  },
  "language_info": {
   "codemirror_mode": {
    "name": "ipython",
    "version": 3
   },
   "file_extension": ".py",
   "mimetype": "text/x-python",
   "name": "python",
   "nbconvert_exporter": "python",
   "pygments_lexer": "ipython3",
   "version": "3.10.12"
  },
  "papermill": {
   "default_parameters": {},
   "duration": 3.300858,
   "end_time": "2023-10-20T07:00:16.540376",
   "environment_variables": {},
   "exception": null,
   "input_path": "__notebook__.ipynb",
   "output_path": "__notebook__.ipynb",
   "parameters": {},
   "start_time": "2023-10-20T07:00:13.239518",
   "version": "2.4.0"
  }
 },
 "nbformat": 4,
 "nbformat_minor": 5
}
