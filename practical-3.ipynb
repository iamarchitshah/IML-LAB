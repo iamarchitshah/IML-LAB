{
 "cells": [
  {
   "cell_type": "markdown",
   "id": "bd9b05c1",
   "metadata": {
    "_cell_guid": "b1076dfc-b9ad-4769-8c92-a6c4dae69d19",
    "_uuid": "8f2839f25d086af736a60e9eeb907d3b93b6e0e5",
    "papermill": {
     "duration": 0.005342,
     "end_time": "2023-09-10T09:50:51.377844",
     "exception": false,
     "start_time": "2023-09-10T09:50:51.372502",
     "status": "completed"
    },
    "tags": []
   },
   "source": [
    "# Practical - 3 : Write a NumPy program to implement following operation"
   ]
  },
  {
   "cell_type": "markdown",
   "id": "78bfa597",
   "metadata": {
    "papermill": {
     "duration": 0.004127,
     "end_time": "2023-09-10T09:50:51.386755",
     "exception": false,
     "start_time": "2023-09-10T09:50:51.382628",
     "status": "completed"
    },
    "tags": []
   },
   "source": [
    "### • to split an array of 14 elements into 3 arrays, each with 2, 4, and 8 elements in the original order"
   ]
  },
  {
   "cell_type": "code",
   "execution_count": 1,
   "id": "2bbff1a4",
   "metadata": {
    "execution": {
     "iopub.execute_input": "2023-09-10T09:50:51.397650Z",
     "iopub.status.busy": "2023-09-10T09:50:51.397222Z",
     "iopub.status.idle": "2023-09-10T09:50:51.412686Z",
     "shell.execute_reply": "2023-09-10T09:50:51.411521Z"
    },
    "papermill": {
     "duration": 0.02398,
     "end_time": "2023-09-10T09:50:51.415147",
     "exception": false,
     "start_time": "2023-09-10T09:50:51.391167",
     "status": "completed"
    },
    "tags": []
   },
   "outputs": [
    {
     "name": "stdout",
     "output_type": "stream",
     "text": [
      "Original array: [ 1  2  3  4  5  6  7  8  9 10 11 12 13 14]\n",
      "After splitting:\n",
      "[array([1, 2]), array([3, 4, 5, 6]), array([ 7,  8,  9, 10, 11, 12, 13, 14])]\n"
     ]
    }
   ],
   "source": [
    "# Name : Archit B Shah \n",
    "#Enrollment : 216270307007\n",
    "\n",
    "import numpy as np\n",
    "\n",
    "x = np.arange(1, 15)\n",
    "print(\"Original array:\",x)\n",
    "\n",
    "print(\"After splitting:\")\n",
    "\n",
    "print(np.split(x, [2, 6]))"
   ]
  },
  {
   "cell_type": "markdown",
   "id": "eb35b8df",
   "metadata": {
    "papermill": {
     "duration": 0.004341,
     "end_time": "2023-09-10T09:50:51.424131",
     "exception": false,
     "start_time": "2023-09-10T09:50:51.419790",
     "status": "completed"
    },
    "tags": []
   },
   "source": [
    "### • to stack arrays horizontally (column wise)"
   ]
  },
  {
   "cell_type": "code",
   "execution_count": 2,
   "id": "fc43203a",
   "metadata": {
    "execution": {
     "iopub.execute_input": "2023-09-10T09:50:51.435582Z",
     "iopub.status.busy": "2023-09-10T09:50:51.434447Z",
     "iopub.status.idle": "2023-09-10T09:50:51.442567Z",
     "shell.execute_reply": "2023-09-10T09:50:51.441162Z"
    },
    "papermill": {
     "duration": 0.016869,
     "end_time": "2023-09-10T09:50:51.445450",
     "exception": false,
     "start_time": "2023-09-10T09:50:51.428581",
     "status": "completed"
    },
    "tags": []
   },
   "outputs": [
    {
     "name": "stdout",
     "output_type": "stream",
     "text": [
      "1st Input array : \n",
      " [1 2 3]\n",
      "2nd Input array : \n",
      " [4 5 6]\n",
      "Output horizontally stacked array:\n",
      "  [1 2 3 4 5 6]\n"
     ]
    }
   ],
   "source": [
    "# Name : Archit B Shah \n",
    "#Enrollment : 216270307007\n",
    "\n",
    "import numpy as np\n",
    "\n",
    "i = np.array([ 1, 2, 3] )\n",
    "print (\"1st Input array : \\n\", i)\n",
    "\n",
    "in2 = np.array([ 4, 5, 6] )\n",
    "print (\"2nd Input array : \\n\", in2)\n",
    "\n",
    "out = np.hstack((i, in2))\n",
    "print (\"Output horizontally stacked array:\\n \", out)"
   ]
  },
  {
   "cell_type": "code",
   "execution_count": null,
   "id": "2b2d8b88",
   "metadata": {
    "papermill": {
     "duration": 0.004339,
     "end_time": "2023-09-10T09:50:51.454514",
     "exception": false,
     "start_time": "2023-09-10T09:50:51.450175",
     "status": "completed"
    },
    "tags": []
   },
   "outputs": [],
   "source": []
  }
 ],
 "kernelspec": {
  "display_name": "Python 3",
  "language": "python",
  "name": "python3"
 },
 "language_info": {
  "codemirror_mode": {
   "name": "ipython",
   "version": 3
  },
  "file_extension": ".py",
  "mimetype": "text/x-python",
  "name": "python",
  "nbconvert_exporter": "python",
  "pygments_lexer": "ipython3",
  "version": "3.6.4"
 },
 "metadata": {
  "kernelspec": {
   "display_name": "Python 3",
   "language": "python",
   "name": "python3"
  },
  "language_info": {
   "codemirror_mode": {
    "name": "ipython",
    "version": 3
   },
   "file_extension": ".py",
   "mimetype": "text/x-python",
   "name": "python",
   "nbconvert_exporter": "python",
   "pygments_lexer": "ipython3",
   "version": "3.10.12"
  },
  "papermill": {
   "default_parameters": {},
   "duration": 4.309903,
   "end_time": "2023-09-10T09:50:51.880663",
   "environment_variables": {},
   "exception": null,
   "input_path": "__notebook__.ipynb",
   "output_path": "__notebook__.ipynb",
   "parameters": {},
   "start_time": "2023-09-10T09:50:47.570760",
   "version": "2.4.0"
  }
 },
 "nbformat": 4,
 "nbformat_minor": 5
}
